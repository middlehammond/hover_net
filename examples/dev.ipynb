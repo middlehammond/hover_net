{
 "cells": [
  {
   "cell_type": "code",
   "execution_count": 1,
   "metadata": {},
   "outputs": [],
   "source": [
    "import os\n",
    "import subprocess\n",
    "import glob\n",
    "import shutil"
   ]
  },
  {
   "cell_type": "code",
   "execution_count": 2,
   "metadata": {},
   "outputs": [],
   "source": [
    "command_template = \"python run_infer.py \\\n",
    "--gpu='0' \\\n",
    "--nr_types={} \\\n",
    "--type_info_path=type_info.json \\\n",
    "--batch_size=8 \\\n",
    "--model_mode={} \\\n",
    "--model_path={} \\\n",
    "--nr_inference_workers=8 \\\n",
    "--nr_post_proc_workers=12 \\\n",
    "tile \\\n",
    "--input_dir=dataset/sample_tiles/imgs/ \\\n",
    "--output_dir=dataset/sample_tiles/pred/ \\\n",
    "--mem_usage=0.1 \\\n",
    "--draw_dot \\\n",
    "--save_qupath\"\n",
    "\n",
    "info = {\n",
    "    \"pannuke\": [\"6\", \"fast\", \"pretrained/hovernet_fast_pannuke_type_tf2pytorch.tar\"],\n",
    "    \"monusac\": [\"5\", \"fast\", \"pretrained/hovernet_fast_monusac_type_tf2pytorch.tar\"],\n",
    "    \"consep_type\": [\"5\", \"original\", \"pretrained/hovernet_original_consep_type_tf2pytorch.tar\"],\n",
    "    \"consep_notype\": [\"0\", \"original\", \"pretrained/hovernet_original_consep_notype_tf2pytorch.tar\"],\n",
    "    \"cpm17\": [\"0\", \"original\", \"pretrained/hovernet_original_cpm17_notype_tf2pytorch.tar\"],\n",
    "    \"kumar\": [\"0\", \"original\", \"pretrained/hovernet_original_kumar_notype_tf2pytorch.tar\"]\n",
    "}\n",
    "\n",
    "info = {\n",
    "    \"custom\": [\"0\", \"original\", \"logs/00/net_epoch=10.tar\"]\n",
    "}"
   ]
  },
  {
   "cell_type": "code",
   "execution_count": 108,
   "metadata": {},
   "outputs": [],
   "source": [
    "output_dir = r\"C:\\Users\\toom\\cuhk-proj\\hover_net\\dataset\\sample_tiles\\pred\\overlay\" # Path to the original dir\n",
    "sav_dir = r\"C:\\Users\\toom\\Desktop\\test_set_1\"   # Path to the new dir\n",
    "\n",
    "for dataset, v in info.items():\n",
    "    # Format string\n",
    "    line = command_template.format(*v)\n",
    "\n",
    "    # Run command and wait\n",
    "    process = subprocess.Popen(['powershell.exe', 'conda activate hovernet; ' + line], \\\n",
    "                                stdout=subprocess.PIPE, \\\n",
    "                                cwd=\"C:/Users/toom/cuhk-proj/hover_net\")\n",
    "    process.wait()\n",
    "\n",
    "    if process.returncode != 0:\n",
    "        print(dataset)\n",
    "        continue\n",
    "\n",
    "    # Move files to other dir\n",
    "    files = glob.glob(os.path.join(output_dir, \"*\"))\n",
    "    curr_sav_dir = os.path.join(sav_dir, dataset)\n",
    "    if not os.path.exists(curr_sav_dir):\n",
    "        os.mkdir(curr_sav_dir)\n",
    "    for i in files:\n",
    "        shutil.move(i, os.path.join(curr_sav_dir, os.path.basename(i)))\n"
   ]
  },
  {
   "cell_type": "code",
   "execution_count": null,
   "metadata": {},
   "outputs": [],
   "source": []
  },
  {
   "cell_type": "code",
   "execution_count": null,
   "metadata": {},
   "outputs": [],
   "source": []
  },
  {
   "cell_type": "code",
   "execution_count": null,
   "metadata": {},
   "outputs": [],
   "source": []
  },
  {
   "cell_type": "code",
   "execution_count": null,
   "metadata": {},
   "outputs": [],
   "source": []
  }
 ],
 "metadata": {
  "kernelspec": {
   "display_name": "Python 3.6.12 ('hovernet')",
   "language": "python",
   "name": "python3"
  },
  "language_info": {
   "codemirror_mode": {
    "name": "ipython",
    "version": 3
   },
   "file_extension": ".py",
   "mimetype": "text/x-python",
   "name": "python",
   "nbconvert_exporter": "python",
   "pygments_lexer": "ipython3",
   "version": "3.6.12"
  },
  "orig_nbformat": 4,
  "vscode": {
   "interpreter": {
    "hash": "dddd801360a56fad60e02e43b98fdb255626f37b9835d3f7c403e388af40b10b"
   }
  }
 },
 "nbformat": 4,
 "nbformat_minor": 2
}
